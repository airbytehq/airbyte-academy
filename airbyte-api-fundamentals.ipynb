{
  "nbformat": 4,
  "nbformat_minor": 0,
  "metadata": {
    "colab": {
      "provenance": [],
      "toc_visible": true,
      "authorship_tag": "ABX9TyO0aICJRIpiB3Okd03puA6x",
      "include_colab_link": true
    },
    "kernelspec": {
      "name": "python3",
      "display_name": "Python 3"
    },
    "language_info": {
      "name": "python"
    }
  },
  "cells": [
    {
      "cell_type": "markdown",
      "metadata": {
        "id": "view-in-github",
        "colab_type": "text"
      },
      "source": [
        "<a href=\"https://colab.research.google.com/github/airbytehq/airbyte-academy/blob/main/airbyte-api-fundamentals.ipynb\" target=\"_parent\"><img src=\"https://colab.research.google.com/assets/colab-badge.svg\" alt=\"Open In Colab\"/></a>"
      ]
    },
    {
      "cell_type": "code",
      "source": [
        "!pip install airbyte-api"
      ],
      "metadata": {
        "colab": {
          "base_uri": "https://localhost:8080/"
        },
        "collapsed": true,
        "id": "CCm8NG9mky5l",
        "outputId": "7c9c8b29-d842-40de-a83e-2b862ec49af7"
      },
      "execution_count": null,
      "outputs": [
        {
          "output_type": "stream",
          "name": "stdout",
          "text": [
            "Collecting airbyte-api\n",
            "  Downloading airbyte_api-0.52.1-py3-none-any.whl.metadata (17 kB)\n",
            "Requirement already satisfied: certifi>=2023.7.22 in /usr/local/lib/python3.10/dist-packages (from airbyte-api) (2024.8.30)\n",
            "Requirement already satisfied: charset-normalizer>=3.2.0 in /usr/local/lib/python3.10/dist-packages (from airbyte-api) (3.4.0)\n",
            "Collecting dataclasses-json>=0.6.4 (from airbyte-api)\n",
            "  Downloading dataclasses_json-0.6.7-py3-none-any.whl.metadata (25 kB)\n",
            "Requirement already satisfied: idna>=3.4 in /usr/local/lib/python3.10/dist-packages (from airbyte-api) (3.10)\n",
            "Collecting jsonpath-python>=1.0.6 (from airbyte-api)\n",
            "  Downloading jsonpath_python-1.0.6-py3-none-any.whl.metadata (12 kB)\n",
            "Collecting marshmallow>=3.19.0 (from airbyte-api)\n",
            "  Downloading marshmallow-3.23.1-py3-none-any.whl.metadata (7.5 kB)\n",
            "Collecting mypy-extensions>=1.0.0 (from airbyte-api)\n",
            "  Downloading mypy_extensions-1.0.0-py3-none-any.whl.metadata (1.1 kB)\n",
            "Requirement already satisfied: packaging>=23.1 in /usr/local/lib/python3.10/dist-packages (from airbyte-api) (24.2)\n",
            "Requirement already satisfied: python-dateutil>=2.8.2 in /usr/local/lib/python3.10/dist-packages (from airbyte-api) (2.8.2)\n",
            "Requirement already satisfied: requests>=2.31.0 in /usr/local/lib/python3.10/dist-packages (from airbyte-api) (2.32.3)\n",
            "Requirement already satisfied: six>=1.16.0 in /usr/local/lib/python3.10/dist-packages (from airbyte-api) (1.16.0)\n",
            "Collecting typing-inspect>=0.9.0 (from airbyte-api)\n",
            "  Downloading typing_inspect-0.9.0-py3-none-any.whl.metadata (1.5 kB)\n",
            "Requirement already satisfied: typing-extensions>=4.7.1 in /usr/local/lib/python3.10/dist-packages (from airbyte-api) (4.12.2)\n",
            "Requirement already satisfied: urllib3>=1.26.18 in /usr/local/lib/python3.10/dist-packages (from airbyte-api) (2.2.3)\n",
            "Downloading airbyte_api-0.52.1-py3-none-any.whl (484 kB)\n",
            "\u001b[2K   \u001b[90m━━━━━━━━━━━━━━━━━━━━━━━━━━━━━━━━━━━━━━━━\u001b[0m \u001b[32m485.0/485.0 kB\u001b[0m \u001b[31m22.3 MB/s\u001b[0m eta \u001b[36m0:00:00\u001b[0m\n",
            "\u001b[?25hDownloading dataclasses_json-0.6.7-py3-none-any.whl (28 kB)\n",
            "Downloading jsonpath_python-1.0.6-py3-none-any.whl (7.6 kB)\n",
            "Downloading marshmallow-3.23.1-py3-none-any.whl (49 kB)\n",
            "\u001b[2K   \u001b[90m━━━━━━━━━━━━━━━━━━━━━━━━━━━━━━━━━━━━━━━━\u001b[0m \u001b[32m49.5/49.5 kB\u001b[0m \u001b[31m2.8 MB/s\u001b[0m eta \u001b[36m0:00:00\u001b[0m\n",
            "\u001b[?25hDownloading mypy_extensions-1.0.0-py3-none-any.whl (4.7 kB)\n",
            "Downloading typing_inspect-0.9.0-py3-none-any.whl (8.8 kB)\n",
            "Installing collected packages: mypy-extensions, marshmallow, jsonpath-python, typing-inspect, dataclasses-json, airbyte-api\n",
            "Successfully installed airbyte-api-0.52.1 dataclasses-json-0.6.7 jsonpath-python-1.0.6 marshmallow-3.23.1 mypy-extensions-1.0.0 typing-inspect-0.9.0\n"
          ]
        }
      ]
    },
    {
      "cell_type": "code",
      "source": [
        "from google.colab import userdata\n",
        "client_id = userdata.get('AIRBYTE_CLIENT_ID')\n",
        "client_secret = userdata.get('AIRBYTE_CLIENT_SECRET')"
      ],
      "metadata": {
        "id": "tKvl6yUwkTcn"
      },
      "execution_count": null,
      "outputs": []
    },
    {
      "cell_type": "code",
      "source": [
        "from airbyte_api.models import SchemeClientCredentials\n",
        "\n",
        "credentials = SchemeClientCredentials(\n",
        "    client_id=client_id,\n",
        "    client_secret=client_secret,\n",
        "    token_url=\"v1/applications/token\"\n",
        ")"
      ],
      "metadata": {
        "id": "-R2FgRurlNQ0"
      },
      "execution_count": null,
      "outputs": []
    },
    {
      "cell_type": "code",
      "source": [
        "from airbyte_api.models import Security\n",
        "from airbyte_api import AirbyteAPI\n",
        "\n",
        "airbyte_api = AirbyteAPI(\n",
        "    security=Security(client_credentials=credentials)\n",
        ")"
      ],
      "metadata": {
        "id": "aKjObO_GlzRt"
      },
      "execution_count": null,
      "outputs": []
    },
    {
      "cell_type": "code",
      "source": [
        "from airbyte_api.api import ListWorkspacesRequest\n",
        "\n",
        "res = airbyte_api.workspaces.list_workspaces(\n",
        "    request=ListWorkspacesRequest()\n",
        ")\n",
        "\n",
        "for workspace in res.workspaces_response.data:\n",
        "    print(workspace.name, workspace.id)"
      ],
      "metadata": {
        "colab": {
          "base_uri": "https://localhost:8080/",
          "height": 176
        },
        "id": "uXOz58aBy7wc",
        "outputId": "1b1dd337-21a9-4a99-d831-dc29f2ac6218"
      },
      "execution_count": null,
      "outputs": [
        {
          "output_type": "error",
          "ename": "AttributeError",
          "evalue": "'WorkspaceResponse' object has no attribute 'id'",
          "traceback": [
            "\u001b[0;31m---------------------------------------------------------------------------\u001b[0m",
            "\u001b[0;31mAttributeError\u001b[0m                            Traceback (most recent call last)",
            "\u001b[0;32m<ipython-input-9-47c2eabf6628>\u001b[0m in \u001b[0;36m<cell line: 7>\u001b[0;34m()\u001b[0m\n\u001b[1;32m      6\u001b[0m \u001b[0;34m\u001b[0m\u001b[0m\n\u001b[1;32m      7\u001b[0m \u001b[0;32mfor\u001b[0m \u001b[0mworkspace\u001b[0m \u001b[0;32min\u001b[0m \u001b[0mres\u001b[0m\u001b[0;34m.\u001b[0m\u001b[0mworkspaces_response\u001b[0m\u001b[0;34m.\u001b[0m\u001b[0mdata\u001b[0m\u001b[0;34m:\u001b[0m\u001b[0;34m\u001b[0m\u001b[0;34m\u001b[0m\u001b[0m\n\u001b[0;32m----> 8\u001b[0;31m     \u001b[0mprint\u001b[0m\u001b[0;34m(\u001b[0m\u001b[0mworkspace\u001b[0m\u001b[0;34m.\u001b[0m\u001b[0mname\u001b[0m\u001b[0;34m,\u001b[0m \u001b[0mworkspace\u001b[0m\u001b[0;34m.\u001b[0m\u001b[0mid\u001b[0m\u001b[0;34m)\u001b[0m\u001b[0;34m\u001b[0m\u001b[0;34m\u001b[0m\u001b[0m\n\u001b[0m",
            "\u001b[0;31mAttributeError\u001b[0m: 'WorkspaceResponse' object has no attribute 'id'"
          ]
        }
      ]
    },
    {
      "cell_type": "code",
      "source": [
        "from airbyte_api.api import ListSourcesRequest\n",
        "\n",
        "res = airbyte_api.sources.list_sources(\n",
        "    request=ListSourcesRequest(workspace_ids=[])\n",
        ")\n",
        "\n",
        "for source in res.sources_response.data:\n",
        "    print(source.name)"
      ],
      "metadata": {
        "colab": {
          "base_uri": "https://localhost:8080/",
          "height": 384
        },
        "id": "COPE2ZFzmPTT",
        "outputId": "221c5e94-d8ed-40a8-c144-272c56e37abf"
      },
      "execution_count": null,
      "outputs": [
        {
          "output_type": "error",
          "ename": "ModuleNotFoundError",
          "evalue": "No module named 'airbyte_api'",
          "traceback": [
            "\u001b[0;31m---------------------------------------------------------------------------\u001b[0m",
            "\u001b[0;31mModuleNotFoundError\u001b[0m                       Traceback (most recent call last)",
            "\u001b[0;32m<ipython-input-2-ea8c209a1535>\u001b[0m in \u001b[0;36m<cell line: 1>\u001b[0;34m()\u001b[0m\n\u001b[0;32m----> 1\u001b[0;31m \u001b[0;32mfrom\u001b[0m \u001b[0mairbyte_api\u001b[0m\u001b[0;34m.\u001b[0m\u001b[0mapi\u001b[0m \u001b[0;32mimport\u001b[0m \u001b[0mListSourcesRequest\u001b[0m\u001b[0;34m\u001b[0m\u001b[0;34m\u001b[0m\u001b[0m\n\u001b[0m\u001b[1;32m      2\u001b[0m \u001b[0;34m\u001b[0m\u001b[0m\n\u001b[1;32m      3\u001b[0m res = airbyte_api.sources.list_sources(\n\u001b[1;32m      4\u001b[0m     \u001b[0mrequest\u001b[0m\u001b[0;34m=\u001b[0m\u001b[0mListSourcesRequest\u001b[0m\u001b[0;34m(\u001b[0m\u001b[0mworkspace_ids\u001b[0m\u001b[0;34m=\u001b[0m\u001b[0;34m[\u001b[0m\u001b[0;34m]\u001b[0m\u001b[0;34m)\u001b[0m\u001b[0;34m\u001b[0m\u001b[0;34m\u001b[0m\u001b[0m\n\u001b[1;32m      5\u001b[0m )\n",
            "\u001b[0;31mModuleNotFoundError\u001b[0m: No module named 'airbyte_api'",
            "",
            "\u001b[0;31m---------------------------------------------------------------------------\u001b[0;32m\nNOTE: If your import is failing due to a missing package, you can\nmanually install dependencies using either !pip or !apt.\n\nTo view examples of installing some common dependencies, click the\n\"Open Examples\" button below.\n\u001b[0;31m---------------------------------------------------------------------------\u001b[0m\n"
          ],
          "errorDetails": {
            "actions": [
              {
                "action": "open_url",
                "actionText": "Open Examples",
                "url": "/notebooks/snippets/importing_libraries.ipynb"
              }
            ]
          }
        }
      ]
    },
    {
      "cell_type": "code",
      "source": [
        "from airbyte_api.models import SourceFaker\n",
        "\n",
        "source_faker = SourceFaker(\n",
        "    count=100\n",
        ")"
      ],
      "metadata": {
        "id": "Zx6tcaoUv4o0"
      },
      "execution_count": null,
      "outputs": []
    },
    {
      "cell_type": "code",
      "source": [
        "from airbyte_api.models import SourceCreateRequest\n",
        "\n",
        "source_create_request = SourceCreateRequest(\n",
        "    workspace_id='33b560c4-2de8-488d-be03-844f8e22ba0d',\n",
        "    name=\"source_created_using_airbyte_api\",\n",
        "    configuration=source_faker\n",
        ")"
      ],
      "metadata": {
        "id": "7FUGd2FywJPQ"
      },
      "execution_count": null,
      "outputs": []
    },
    {
      "cell_type": "code",
      "source": [
        "airbyte_api.sources.create_source(source_create_request)"
      ],
      "metadata": {
        "id": "9ijaXxOZwy16",
        "outputId": "fe204fa3-d15d-4be6-83e0-c10abccc0ade",
        "colab": {
          "base_uri": "https://localhost:8080/"
        }
      },
      "execution_count": null,
      "outputs": [
        {
          "output_type": "execute_result",
          "data": {
            "text/plain": [
              "CreateSourceResponse(content_type='application/json', status_code=200, raw_response=<Response [200]>, source_response=SourceResponse(configuration=SourceAirtable(credentials=None, SOURCE_TYPE=<SourceAirtableAirtable.AIRTABLE: 'airtable'>), name='source_created_using_airbyte_api', source_id='0653df2b-67aa-4351-b50e-415e24939208', source_type='faker', workspace_id='33b560c4-2de8-488d-be03-844f8e22ba0d'))"
            ]
          },
          "metadata": {},
          "execution_count": 59
        }
      ]
    }
  ]
}